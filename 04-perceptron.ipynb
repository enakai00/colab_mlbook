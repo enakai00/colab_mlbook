{
  "nbformat": 4,
  "nbformat_minor": 0,
  "metadata": {
    "colab": {
      "name": "04-perceptron.ipynb",
      "provenance": [],
      "collapsed_sections": []
    },
    "kernelspec": {
      "name": "python3",
      "display_name": "Python 3"
    }
  },
  "cells": [
    {
      "cell_type": "markdown",
      "metadata": {
        "id": "I6qdbBpaloCv"
      },
      "source": [
        "# 第4章　パーセプトロン：分類アルゴリズムの基礎"
      ]
    },
    {
      "cell_type": "markdown",
      "metadata": {
        "id": "_435d-6Gl0_I"
      },
      "source": [
        "## 4.1 確率的勾配降下法のアルゴリズム"
      ]
    },
    {
      "cell_type": "markdown",
      "metadata": {
        "id": "D8U1MtXimB7E"
      },
      "source": [
        "**[04PT-01]**\n",
        "\n",
        "必要なモジュールをインポートします。"
      ]
    },
    {
      "cell_type": "code",
      "metadata": {
        "id": "dmy0vrOT76h9"
      },
      "source": [
        "import numpy as np\n",
        "import matplotlib.pyplot as plt\n",
        "import pandas as pd\n",
        "from pandas import Series, DataFrame\n",
        "\n",
        "from numpy.random import multivariate_normal\n",
        "\n",
        "import matplotlib\n",
        "matplotlib.rcParams['font.size'] = 14"
      ],
      "execution_count": 13,
      "outputs": []
    },
    {
      "cell_type": "markdown",
      "metadata": {
        "id": "_caVniSmmFqP"
      },
      "source": [
        "**[04PT-02]**\n",
        "\n",
        "トレーニングセットのデータを生成する関数を用意します。\n",
        "\n",
        "平面上の ○ ☓ の 2 種類のデータについて、それぞれの「個数、中心座標、分散」を引数で指定します。"
      ]
    },
    {
      "cell_type": "code",
      "metadata": {
        "id": "ULN9rPu-77um"
      },
      "source": [
        "def prepare_dataset(n1, mu1, variance1, n2, mu2, variance2):\n",
        "  df1 = DataFrame(multivariate_normal(mu1, np.eye(2)*variance1 ,n1),\n",
        "                  columns=['x', 'y'])\n",
        "  df1['type'] = 1\n",
        "  df2 = DataFrame(multivariate_normal(mu2, np.eye(2)*variance2, n2),\n",
        "                  columns=['x', 'y'])\n",
        "  df2['type'] = -1\n",
        "  df = pd.concat([df1, df2], ignore_index=True)\n",
        "  df = df.reindex(np.random.permutation(df.index)).reset_index(drop=True)\n",
        "  return df"
      ],
      "execution_count": 14,
      "outputs": []
    },
    {
      "cell_type": "markdown",
      "metadata": {
        "id": "20jO99OxmMhc"
      },
      "source": [
        "**[04PT-03]**\n",
        "\n",
        "トレーニングセットのデータを生成して、先頭から10個分のデータをサンプルとして表示します。\n",
        "\n",
        "`type` の値がデータの種類 $t=\\pm 1$ に対応します。"
      ]
    },
    {
      "cell_type": "code",
      "metadata": {
        "id": "gWIXlJhN79la",
        "colab": {
          "base_uri": "https://localhost:8080/",
          "height": 359
        },
        "outputId": "6158ab1c-bc31-4f50-8bb6-c68a396cc67d"
      },
      "source": [
        "train_set = prepare_dataset(20, [15, 10], 15, 30, [0, 0], 15)\n",
        "train_set[:10]"
      ],
      "execution_count": 15,
      "outputs": [
        {
          "output_type": "execute_result",
          "data": {
            "text/html": [
              "<div>\n",
              "<style scoped>\n",
              "    .dataframe tbody tr th:only-of-type {\n",
              "        vertical-align: middle;\n",
              "    }\n",
              "\n",
              "    .dataframe tbody tr th {\n",
              "        vertical-align: top;\n",
              "    }\n",
              "\n",
              "    .dataframe thead th {\n",
              "        text-align: right;\n",
              "    }\n",
              "</style>\n",
              "<table border=\"1\" class=\"dataframe\">\n",
              "  <thead>\n",
              "    <tr style=\"text-align: right;\">\n",
              "      <th></th>\n",
              "      <th>x</th>\n",
              "      <th>y</th>\n",
              "      <th>type</th>\n",
              "    </tr>\n",
              "  </thead>\n",
              "  <tbody>\n",
              "    <tr>\n",
              "      <th>0</th>\n",
              "      <td>3.373462</td>\n",
              "      <td>-1.474683</td>\n",
              "      <td>-1</td>\n",
              "    </tr>\n",
              "    <tr>\n",
              "      <th>1</th>\n",
              "      <td>0.527996</td>\n",
              "      <td>1.650825</td>\n",
              "      <td>-1</td>\n",
              "    </tr>\n",
              "    <tr>\n",
              "      <th>2</th>\n",
              "      <td>21.813155</td>\n",
              "      <td>8.108914</td>\n",
              "      <td>1</td>\n",
              "    </tr>\n",
              "    <tr>\n",
              "      <th>3</th>\n",
              "      <td>3.029605</td>\n",
              "      <td>-5.776860</td>\n",
              "      <td>-1</td>\n",
              "    </tr>\n",
              "    <tr>\n",
              "      <th>4</th>\n",
              "      <td>15.800180</td>\n",
              "      <td>10.201543</td>\n",
              "      <td>1</td>\n",
              "    </tr>\n",
              "    <tr>\n",
              "      <th>5</th>\n",
              "      <td>4.755984</td>\n",
              "      <td>1.178161</td>\n",
              "      <td>-1</td>\n",
              "    </tr>\n",
              "    <tr>\n",
              "      <th>6</th>\n",
              "      <td>15.680788</td>\n",
              "      <td>16.522375</td>\n",
              "      <td>1</td>\n",
              "    </tr>\n",
              "    <tr>\n",
              "      <th>7</th>\n",
              "      <td>20.906365</td>\n",
              "      <td>7.730521</td>\n",
              "      <td>1</td>\n",
              "    </tr>\n",
              "    <tr>\n",
              "      <th>8</th>\n",
              "      <td>7.694475</td>\n",
              "      <td>1.002511</td>\n",
              "      <td>-1</td>\n",
              "    </tr>\n",
              "    <tr>\n",
              "      <th>9</th>\n",
              "      <td>16.071553</td>\n",
              "      <td>8.683184</td>\n",
              "      <td>1</td>\n",
              "    </tr>\n",
              "  </tbody>\n",
              "</table>\n",
              "</div>"
            ],
            "text/plain": [
              "           x          y  type\n",
              "0   3.373462  -1.474683    -1\n",
              "1   0.527996   1.650825    -1\n",
              "2  21.813155   8.108914     1\n",
              "3   3.029605  -5.776860    -1\n",
              "4  15.800180  10.201543     1\n",
              "5   4.755984   1.178161    -1\n",
              "6  15.680788  16.522375     1\n",
              "7  20.906365   7.730521     1\n",
              "8   7.694475   1.002511    -1\n",
              "9  16.071553   8.683184     1"
            ]
          },
          "metadata": {
            "tags": []
          },
          "execution_count": 15
        }
      ]
    },
    {
      "cell_type": "markdown",
      "metadata": {
        "id": "eVCDBlWxnyAi"
      },
      "source": [
        "**[04PT-05]**\n",
        "\n",
        "パーセプトロンによる分類を実施する関数を用意します。\n",
        "\n",
        "生成したトレーニングセットを引数に渡すと、「$n=1\\sim N$ のデータをチェックしながらパラメーターを修正する」という処理を 30 回繰り返した後に、この間のパラメーターの変化を記録したリストと最終的な誤分類率（正しく分類されていないデータの割合）を返します。"
      ]
    },
    {
      "cell_type": "code",
      "metadata": {
        "id": "bPOCnx6Tk-fB"
      },
      "source": [
        "def run_train(train_set):\n",
        "  # パラメータの初期値とbias項の設定\n",
        "  w0 = w1 = w2 = 0.0\n",
        "  bias = 0.5 * (train_set.x.abs().mean() + train_set.y.abs().mean())\n",
        "\n",
        "  # Iterationを実施\n",
        "  paramhist = DataFrame([[w0, w1, w2]], columns=['w0', 'w1', 'w2'])\n",
        "  for i in range(30):\n",
        "    for index, point in train_set.iterrows():\n",
        "      x, y, type = point.x, point.y, point.type\n",
        "      if (w0*bias + w1*x + w2*y) * type <= 0:\n",
        "        w0 += type * bias\n",
        "        w1 += type * x\n",
        "        w2 += type * y\n",
        "    paramhist = paramhist.append({'w0': w0, 'w1': w1, 'w2': w2},\n",
        "                                 ignore_index=True)\n",
        "\n",
        "  # 判定誤差の計算\n",
        "  err = 0.0\n",
        "  for index, point in train_set.iterrows():\n",
        "    x, y, type = point.x, point.y, point.type\n",
        "    if (w0*bias + w1*x + w2*y) * type <= 0:\n",
        "      err += 1\n",
        "  err_rate = err * 100 / len(train_set)\n",
        "\n",
        "  return paramhist, err_rate"
      ],
      "execution_count": 16,
      "outputs": []
    },
    {
      "cell_type": "markdown",
      "metadata": {
        "id": "vLQWD26loRBA"
      },
      "source": [
        "**[04PT-06]**\n",
        "\n",
        "学習処理を実行します。"
      ]
    },
    {
      "cell_type": "code",
      "metadata": {
        "id": "dJKlayjZlovz"
      },
      "source": [
        "paramhist, err_rate = run_train(train_set)"
      ],
      "execution_count": 17,
      "outputs": []
    },
    {
      "cell_type": "markdown",
      "metadata": {
        "id": "sF7JnNUpoWbn"
      },
      "source": [
        "**[04PT-07]**\n",
        "\n",
        "分類結果をグラフに可視化する関数を用意します。"
      ]
    },
    {
      "cell_type": "code",
      "metadata": {
        "id": "DAv27XxHlwQn"
      },
      "source": [
        "# 結果の表示\n",
        "def show_result(subplot, train_set, w0, w1, w2, err_rate):\n",
        "  train_set1 = train_set[train_set['type']==1]\n",
        "  train_set2 = train_set[train_set['type']==-1]\n",
        "  bias = 0.5 * (train_set.x.abs().mean() + train_set.y.abs().mean())\n",
        "  ymin, ymax = train_set.y.min()-5, train_set.y.max()+10\n",
        "  xmin, xmax = train_set.x.min()-5, train_set.x.max()+10\n",
        "\n",
        "  subplot.set_ylim([ymin-1, ymax+1])\n",
        "  subplot.set_xlim([xmin-1, xmax+1])\n",
        "  subplot.scatter(train_set1.x, train_set1.y, marker='o', label=None)\n",
        "  subplot.scatter(train_set2.x, train_set2.y, marker='x', label=None)\n",
        "\n",
        "  linex = np.arange(xmin-5, xmax+5)\n",
        "  liney = - linex * w1 / w2 - bias * w0 / w2\n",
        "  label = \"ERR %.2f%%\" % err_rate\n",
        "  subplot.plot(linex, liney, label=label, color='red')\n",
        "  subplot.legend(loc=1, fontsize=14)"
      ],
      "execution_count": 18,
      "outputs": []
    },
    {
      "cell_type": "markdown",
      "metadata": {
        "id": "oFrxGrkYxZ-h"
      },
      "source": [
        "**[04PT-08]**\n",
        "\n",
        "分類結果をグラフに表示します。"
      ]
    },
    {
      "cell_type": "code",
      "metadata": {
        "colab": {
          "base_uri": "https://localhost:8080/",
          "height": 432
        },
        "id": "rDbSaE1bl2q6",
        "outputId": "f340a83f-5dda-4050-d36a-302636a354d8"
      },
      "source": [
        "fig = plt.figure(figsize=(7, 7))\n",
        "subplot = fig.add_subplot(1, 1, 1)\n",
        "params = paramhist[-1:]\n",
        "w0, w1, w2 = float(params.w0), float(params.w1), float(params.w2)\n",
        "show_result(subplot, train_set, w0, w1, w2, err_rate)"
      ],
      "execution_count": 19,
      "outputs": [
        {
          "output_type": "display_data",
          "data": {
            "image/png": "[encoded data removed]",
            "text/plain": [
              "<Figure size 504x504 with 1 Axes>"
            ]
          },
          "metadata": {
            "tags": [],
            "needs_background": "light"
          }
        }
      ]
    },
    {
      "cell_type": "markdown",
      "metadata": {
        "id": "KYOysOvu0cgo"
      },
      "source": [
        "**[04PT-09]**\n",
        "\n",
        "同じく、パラメーターの変化をグラフに表示します。"
      ]
    },
    {
      "cell_type": "code",
      "metadata": {
        "colab": {
          "base_uri": "https://localhost:8080/",
          "height": 395
        },
        "id": "nsNwSPfCl-mz",
        "outputId": "38d3be2a-cb3c-495f-96b3-619d5e2860f4"
      },
      "source": [
        "paramhist.plot(figsize=(8, 6)).legend(loc=1, fontsize=14)"
      ],
      "execution_count": 20,
      "outputs": [
        {
          "output_type": "execute_result",
          "data": {
            "text/plain": [
              "<matplotlib.legend.Legend at 0x7f8d883e1590>"
            ]
          },
          "metadata": {
            "tags": []
          },
          "execution_count": 20
        },
        {
          "output_type": "display_data",
          "data": {
            "image/png": "[encoded data removed]",
            "text/plain": [
              "<Figure size 576x432 with 1 Axes>"
            ]
          },
          "metadata": {
            "tags": [],
            "needs_background": "light"
          }
        }
      ]
    },
    {
      "cell_type": "markdown",
      "metadata": {
        "id": "3loH6iSy0k2D"
      },
      "source": [
        "**[04PT-10]**\n",
        "\n",
        "先ほどよりも分散が大きく、分類な困難なトレーニングセットを用意します。"
      ]
    },
    {
      "cell_type": "code",
      "metadata": {
        "id": "Jo5xRRizmCnL"
      },
      "source": [
        "train_set = prepare_dataset(20, [15,10], 35, 30, [0,0], 35)"
      ],
      "execution_count": 21,
      "outputs": []
    },
    {
      "cell_type": "markdown",
      "metadata": {
        "id": "JOhFzDdW1xV4"
      },
      "source": [
        "**[04PT-11]**\n",
        "\n",
        "学習処理を実行して、結果をグラフに表示します。"
      ]
    },
    {
      "cell_type": "code",
      "metadata": {
        "colab": {
          "base_uri": "https://localhost:8080/",
          "height": 432
        },
        "id": "KfUQcmY1mEly",
        "outputId": "dc5a61b5-fcca-47df-a390-5f9c80c2825d"
      },
      "source": [
        "paramhist, err_rate = run_train(train_set)\n",
        "fig = plt.figure(figsize=(7, 7))\n",
        "subplot = fig.add_subplot(1, 1, 1)\n",
        "params = paramhist[-1:]\n",
        "w0, w1, w2 = float(params.w0), float(params.w1), float(params.w2)\n",
        "show_result(subplot, train_set, w0, w1, w2, err_rate)"
      ],
      "execution_count": 22,
      "outputs": [
        {
          "output_type": "display_data",
          "data": {
            "image/png": "[encoded data removed]",
            "text/plain": [
              "<Figure size 504x504 with 1 Axes>"
            ]
          },
          "metadata": {
            "tags": [],
            "needs_background": "light"
          }
        }
      ]
    },
    {
      "cell_type": "markdown",
      "metadata": {
        "id": "MOe31KXU186O"
      },
      "source": [
        "**[04PT-12]**\n",
        "\n",
        "同じく、パラメーターの変化をグラフに表示します。"
      ]
    },
    {
      "cell_type": "code",
      "metadata": {
        "colab": {
          "base_uri": "https://localhost:8080/",
          "height": 395
        },
        "id": "4ZK89F3ZmIVr",
        "outputId": "29d55d98-5507-4073-db2f-2a9f91659a9b"
      },
      "source": [
        "paramhist.plot(figsize=(8, 6)).legend(loc=1, fontsize=14)"
      ],
      "execution_count": 23,
      "outputs": [
        {
          "output_type": "execute_result",
          "data": {
            "text/plain": [
              "<matplotlib.legend.Legend at 0x7f8d882aa650>"
            ]
          },
          "metadata": {
            "tags": []
          },
          "execution_count": 23
        },
        {
          "output_type": "display_data",
          "data": {
            "image/png": "[encoded data removed]",
            "text/plain": [
              "<Figure size 576x432 with 1 Axes>"
            ]
          },
          "metadata": {
            "tags": [],
            "needs_background": "light"
          }
        }
      ]
    }
  ]
}